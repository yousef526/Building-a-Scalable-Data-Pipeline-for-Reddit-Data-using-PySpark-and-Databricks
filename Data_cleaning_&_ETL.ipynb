{
 "cells": [
  {
   "cell_type": "code",
   "execution_count": 1,
   "id": "fd2eacd6",
   "metadata": {},
   "outputs": [],
   "source": [
    "import pandas as pd"
   ]
  },
  {
   "cell_type": "code",
   "execution_count": 2,
   "id": "4f150735",
   "metadata": {},
   "outputs": [],
   "source": [
    "df_posts = pd.read_csv(\"posts_travel.csv\")"
   ]
  },
  {
   "cell_type": "code",
   "execution_count": 3,
   "id": "ece8cf97",
   "metadata": {},
   "outputs": [
    {
     "data": {
      "text/html": [
       "<div>\n",
       "<style scoped>\n",
       "    .dataframe tbody tr th:only-of-type {\n",
       "        vertical-align: middle;\n",
       "    }\n",
       "\n",
       "    .dataframe tbody tr th {\n",
       "        vertical-align: top;\n",
       "    }\n",
       "\n",
       "    .dataframe thead th {\n",
       "        text-align: right;\n",
       "    }\n",
       "</style>\n",
       "<table border=\"1\" class=\"dataframe\">\n",
       "  <thead>\n",
       "    <tr style=\"text-align: right;\">\n",
       "      <th></th>\n",
       "      <th>post_id</th>\n",
       "      <th>title</th>\n",
       "      <th>author</th>\n",
       "      <th>score</th>\n",
       "      <th>num_comments</th>\n",
       "      <th>created_utc</th>\n",
       "      <th>subreddit</th>\n",
       "      <th>post_url</th>\n",
       "      <th>selftext</th>\n",
       "    </tr>\n",
       "  </thead>\n",
       "  <tbody>\n",
       "    <tr>\n",
       "      <th>0</th>\n",
       "      <td>1mnkqmi</td>\n",
       "      <td>Advice on travel in/near Croatia</td>\n",
       "      <td>gtjs001</td>\n",
       "      <td>1</td>\n",
       "      <td>1</td>\n",
       "      <td>1.754936e+09</td>\n",
       "      <td>travel</td>\n",
       "      <td>https://www.reddit.com/r/travel/comments/1mnkq...</td>\n",
       "      <td>My wife and I are going to take an 8-day bike ...</td>\n",
       "    </tr>\n",
       "    <tr>\n",
       "      <th>1</th>\n",
       "      <td>1mnkabx</td>\n",
       "      <td>Night time in London</td>\n",
       "      <td>Areotew</td>\n",
       "      <td>0</td>\n",
       "      <td>9</td>\n",
       "      <td>1.754935e+09</td>\n",
       "      <td>travel</td>\n",
       "      <td>https://www.reddit.com/r/travel/comments/1mnka...</td>\n",
       "      <td>I have found myself with a 13hr layover in Lon...</td>\n",
       "    </tr>\n",
       "    <tr>\n",
       "      <th>2</th>\n",
       "      <td>1mnk8sc</td>\n",
       "      <td>Things to do in Régua without a car?</td>\n",
       "      <td>Ok_Hearing7948</td>\n",
       "      <td>1</td>\n",
       "      <td>1</td>\n",
       "      <td>1.754935e+09</td>\n",
       "      <td>travel</td>\n",
       "      <td>https://www.reddit.com/r/travel/comments/1mnk8...</td>\n",
       "      <td>I’ll be spending some time in Régua, Portugal,...</td>\n",
       "    </tr>\n",
       "    <tr>\n",
       "      <th>3</th>\n",
       "      <td>1mnk0m9</td>\n",
       "      <td>Malaysia in September</td>\n",
       "      <td>AdagioNovel1264</td>\n",
       "      <td>1</td>\n",
       "      <td>1</td>\n",
       "      <td>1.754935e+09</td>\n",
       "      <td>travel</td>\n",
       "      <td>https://www.reddit.com/r/travel/comments/1mnk0...</td>\n",
       "      <td>Hello,\\n\\nme and my girlfriend are planning a ...</td>\n",
       "    </tr>\n",
       "    <tr>\n",
       "      <th>4</th>\n",
       "      <td>1mnjrrn</td>\n",
       "      <td>Solo trip suggestions in Canada, 1 week</td>\n",
       "      <td>Expert_Variation_123</td>\n",
       "      <td>1</td>\n",
       "      <td>3</td>\n",
       "      <td>1.754934e+09</td>\n",
       "      <td>travel</td>\n",
       "      <td>https://www.reddit.com/r/travel/comments/1mnjr...</td>\n",
       "      <td>Hi,\\n\\nWould someone be able to suggest safe t...</td>\n",
       "    </tr>\n",
       "  </tbody>\n",
       "</table>\n",
       "</div>"
      ],
      "text/plain": [
       "   post_id                                    title                author  \\\n",
       "0  1mnkqmi         Advice on travel in/near Croatia               gtjs001   \n",
       "1  1mnkabx                     Night time in London               Areotew   \n",
       "2  1mnk8sc     Things to do in Régua without a car?        Ok_Hearing7948   \n",
       "3  1mnk0m9                    Malaysia in September       AdagioNovel1264   \n",
       "4  1mnjrrn  Solo trip suggestions in Canada, 1 week  Expert_Variation_123   \n",
       "\n",
       "   score  num_comments   created_utc subreddit  \\\n",
       "0      1             1  1.754936e+09    travel   \n",
       "1      0             9  1.754935e+09    travel   \n",
       "2      1             1  1.754935e+09    travel   \n",
       "3      1             1  1.754935e+09    travel   \n",
       "4      1             3  1.754934e+09    travel   \n",
       "\n",
       "                                            post_url  \\\n",
       "0  https://www.reddit.com/r/travel/comments/1mnkq...   \n",
       "1  https://www.reddit.com/r/travel/comments/1mnka...   \n",
       "2  https://www.reddit.com/r/travel/comments/1mnk8...   \n",
       "3  https://www.reddit.com/r/travel/comments/1mnk0...   \n",
       "4  https://www.reddit.com/r/travel/comments/1mnjr...   \n",
       "\n",
       "                                            selftext  \n",
       "0  My wife and I are going to take an 8-day bike ...  \n",
       "1  I have found myself with a 13hr layover in Lon...  \n",
       "2  I’ll be spending some time in Régua, Portugal,...  \n",
       "3  Hello,\\n\\nme and my girlfriend are planning a ...  \n",
       "4  Hi,\\n\\nWould someone be able to suggest safe t...  "
      ]
     },
     "execution_count": 3,
     "metadata": {},
     "output_type": "execute_result"
    }
   ],
   "source": [
    "df_posts.head()"
   ]
  },
  {
   "cell_type": "code",
   "execution_count": 4,
   "id": "fe8b2d0a",
   "metadata": {},
   "outputs": [
    {
     "name": "stdout",
     "output_type": "stream",
     "text": [
      "<class 'pandas.core.frame.DataFrame'>\n",
      "RangeIndex: 60 entries, 0 to 59\n",
      "Data columns (total 9 columns):\n",
      " #   Column        Non-Null Count  Dtype  \n",
      "---  ------        --------------  -----  \n",
      " 0   post_id       60 non-null     object \n",
      " 1   title         60 non-null     object \n",
      " 2   author        60 non-null     object \n",
      " 3   score         60 non-null     int64  \n",
      " 4   num_comments  60 non-null     int64  \n",
      " 5   created_utc   60 non-null     float64\n",
      " 6   subreddit     60 non-null     object \n",
      " 7   post_url      60 non-null     object \n",
      " 8   selftext      60 non-null     object \n",
      "dtypes: float64(1), int64(2), object(6)\n",
      "memory usage: 4.3+ KB\n"
     ]
    }
   ],
   "source": [
    "# To know Column names, DataTypes and Non-Null Count\n",
    "df_posts.info()"
   ]
  },
  {
   "cell_type": "code",
   "execution_count": 5,
   "id": "c681a74e",
   "metadata": {},
   "outputs": [
    {
     "data": {
      "text/plain": [
       "post_id         0.0\n",
       "title           0.0\n",
       "author          0.0\n",
       "score           0.0\n",
       "num_comments    0.0\n",
       "created_utc     0.0\n",
       "subreddit       0.0\n",
       "post_url        0.0\n",
       "selftext        0.0\n",
       "dtype: float64"
      ]
     },
     "execution_count": 5,
     "metadata": {},
     "output_type": "execute_result"
    }
   ],
   "source": [
    "# To know how much % of missing values in each column\n",
    "df_posts.isna().sum()/len(df_posts)"
   ]
  },
  {
   "cell_type": "code",
   "execution_count": 6,
   "id": "8d31a24a",
   "metadata": {},
   "outputs": [],
   "source": [
    "# removing unnecessary items from body of the text \\n  and ** from\n",
    "df_posts[\"selftext\"] = df_posts[\"selftext\"].str.replace(\"\\n\",\"\")\n",
    "df_posts[\"selftext\"] = df_posts[\"selftext\"].str.replace(\"**\",\"\")"
   ]
  },
  {
   "cell_type": "code",
   "execution_count": 7,
   "id": "4fe8bb1f",
   "metadata": {},
   "outputs": [],
   "source": [
    "# dropping the duplicates and null values\n",
    "df_posts.dropna(inplace=True)\n",
    "df_posts.drop_duplicates(inplace=True)"
   ]
  },
  {
   "cell_type": "code",
   "execution_count": 8,
   "id": "9588257c",
   "metadata": {},
   "outputs": [
    {
     "data": {
      "text/html": [
       "<div>\n",
       "<style scoped>\n",
       "    .dataframe tbody tr th:only-of-type {\n",
       "        vertical-align: middle;\n",
       "    }\n",
       "\n",
       "    .dataframe tbody tr th {\n",
       "        vertical-align: top;\n",
       "    }\n",
       "\n",
       "    .dataframe thead th {\n",
       "        text-align: right;\n",
       "    }\n",
       "</style>\n",
       "<table border=\"1\" class=\"dataframe\">\n",
       "  <thead>\n",
       "    <tr style=\"text-align: right;\">\n",
       "      <th></th>\n",
       "      <th>post_id</th>\n",
       "      <th>title</th>\n",
       "      <th>author</th>\n",
       "      <th>score</th>\n",
       "      <th>num_comments</th>\n",
       "      <th>created_utc</th>\n",
       "      <th>subreddit</th>\n",
       "      <th>post_url</th>\n",
       "      <th>selftext</th>\n",
       "    </tr>\n",
       "  </thead>\n",
       "  <tbody>\n",
       "  </tbody>\n",
       "</table>\n",
       "</div>"
      ],
      "text/plain": [
       "Empty DataFrame\n",
       "Columns: [post_id, title, author, score, num_comments, created_utc, subreddit, post_url, selftext]\n",
       "Index: []"
      ]
     },
     "execution_count": 8,
     "metadata": {},
     "output_type": "execute_result"
    }
   ],
   "source": [
    "# indcates no Null values in the data\n",
    "df_posts[df_posts.isna().any(axis=1)]"
   ]
  },
  {
   "cell_type": "code",
   "execution_count": 9,
   "id": "ee1ec213",
   "metadata": {},
   "outputs": [
    {
     "data": {
      "text/plain": [
       "0     False\n",
       "1     False\n",
       "2     False\n",
       "3     False\n",
       "4     False\n",
       "5     False\n",
       "6     False\n",
       "7     False\n",
       "8     False\n",
       "9     False\n",
       "10    False\n",
       "11    False\n",
       "12    False\n",
       "13    False\n",
       "14    False\n",
       "15    False\n",
       "16    False\n",
       "17    False\n",
       "18    False\n",
       "19    False\n",
       "20    False\n",
       "21    False\n",
       "22    False\n",
       "23    False\n",
       "24    False\n",
       "25    False\n",
       "26    False\n",
       "27    False\n",
       "28    False\n",
       "29    False\n",
       "30    False\n",
       "31    False\n",
       "32    False\n",
       "33    False\n",
       "34    False\n",
       "35    False\n",
       "36    False\n",
       "37    False\n",
       "38    False\n",
       "39    False\n",
       "40    False\n",
       "41    False\n",
       "42    False\n",
       "43    False\n",
       "44    False\n",
       "45    False\n",
       "46    False\n",
       "47    False\n",
       "48    False\n",
       "49    False\n",
       "50    False\n",
       "51    False\n",
       "52    False\n",
       "53    False\n",
       "54    False\n",
       "55    False\n",
       "56    False\n",
       "57    False\n",
       "58    False\n",
       "59    False\n",
       "dtype: bool"
      ]
     },
     "execution_count": 9,
     "metadata": {},
     "output_type": "execute_result"
    }
   ],
   "source": [
    "# indcates no duplicated values in the data\n",
    "df_posts.duplicated()"
   ]
  },
  {
   "cell_type": "code",
   "execution_count": 10,
   "id": "7b85fb5d",
   "metadata": {},
   "outputs": [],
   "source": [
    "df_posts.to_csv(\"posts_travel_cleaned.csv\",index=False)"
   ]
  },
  {
   "cell_type": "markdown",
   "id": "5b5b98e5",
   "metadata": {},
   "source": [
    "# Comments dataFrame"
   ]
  },
  {
   "cell_type": "code",
   "execution_count": 11,
   "id": "7e940cd6",
   "metadata": {},
   "outputs": [
    {
     "data": {
      "text/html": [
       "<div>\n",
       "<style scoped>\n",
       "    .dataframe tbody tr th:only-of-type {\n",
       "        vertical-align: middle;\n",
       "    }\n",
       "\n",
       "    .dataframe tbody tr th {\n",
       "        vertical-align: top;\n",
       "    }\n",
       "\n",
       "    .dataframe thead th {\n",
       "        text-align: right;\n",
       "    }\n",
       "</style>\n",
       "<table border=\"1\" class=\"dataframe\">\n",
       "  <thead>\n",
       "    <tr style=\"text-align: right;\">\n",
       "      <th></th>\n",
       "      <th>comment_id</th>\n",
       "      <th>author</th>\n",
       "      <th>score</th>\n",
       "      <th>created_utc</th>\n",
       "      <th>parent_id</th>\n",
       "      <th>link_id</th>\n",
       "      <th>body</th>\n",
       "    </tr>\n",
       "  </thead>\n",
       "  <tbody>\n",
       "    <tr>\n",
       "      <th>0</th>\n",
       "      <td>n85i14a</td>\n",
       "      <td>AutoModerator</td>\n",
       "      <td>1</td>\n",
       "      <td>1.754936e+09</td>\n",
       "      <td>t3_1mnkqmi</td>\n",
       "      <td>t3_1mnkqmi</td>\n",
       "      <td>**Notice:** Are you asking for travel advice a...</td>\n",
       "    </tr>\n",
       "    <tr>\n",
       "      <th>1</th>\n",
       "      <td>n85fd9z</td>\n",
       "      <td>NewJerseyAggie13</td>\n",
       "      <td>1</td>\n",
       "      <td>1.754935e+09</td>\n",
       "      <td>t3_1mnkabx</td>\n",
       "      <td>t3_1mnkabx</td>\n",
       "      <td>London has several epic Pub crawls, but I woul...</td>\n",
       "    </tr>\n",
       "    <tr>\n",
       "      <th>2</th>\n",
       "      <td>n85gih8</td>\n",
       "      <td>ZKH15</td>\n",
       "      <td>1</td>\n",
       "      <td>1.754936e+09</td>\n",
       "      <td>t3_1mnkabx</td>\n",
       "      <td>t3_1mnkabx</td>\n",
       "      <td>As a Londoner, I’d say you can definitely make...</td>\n",
       "    </tr>\n",
       "    <tr>\n",
       "      <th>3</th>\n",
       "      <td>n85gttp</td>\n",
       "      <td>UnhappyScore</td>\n",
       "      <td>1</td>\n",
       "      <td>1.754936e+09</td>\n",
       "      <td>t3_1mnkabx</td>\n",
       "      <td>t3_1mnkabx</td>\n",
       "      <td>If its the weekend, a bit more luck, but this ...</td>\n",
       "    </tr>\n",
       "    <tr>\n",
       "      <th>4</th>\n",
       "      <td>n85fl96</td>\n",
       "      <td>gateofai</td>\n",
       "      <td>1</td>\n",
       "      <td>1.754936e+09</td>\n",
       "      <td>t3_1mnkabx</td>\n",
       "      <td>t3_1mnkabx</td>\n",
       "      <td>Nothing really everything is closes early, and...</td>\n",
       "    </tr>\n",
       "  </tbody>\n",
       "</table>\n",
       "</div>"
      ],
      "text/plain": [
       "  comment_id            author  score   created_utc   parent_id     link_id  \\\n",
       "0    n85i14a     AutoModerator      1  1.754936e+09  t3_1mnkqmi  t3_1mnkqmi   \n",
       "1    n85fd9z  NewJerseyAggie13      1  1.754935e+09  t3_1mnkabx  t3_1mnkabx   \n",
       "2    n85gih8             ZKH15      1  1.754936e+09  t3_1mnkabx  t3_1mnkabx   \n",
       "3    n85gttp      UnhappyScore      1  1.754936e+09  t3_1mnkabx  t3_1mnkabx   \n",
       "4    n85fl96          gateofai      1  1.754936e+09  t3_1mnkabx  t3_1mnkabx   \n",
       "\n",
       "                                                body  \n",
       "0  **Notice:** Are you asking for travel advice a...  \n",
       "1  London has several epic Pub crawls, but I woul...  \n",
       "2  As a Londoner, I’d say you can definitely make...  \n",
       "3  If its the weekend, a bit more luck, but this ...  \n",
       "4  Nothing really everything is closes early, and...  "
      ]
     },
     "execution_count": 11,
     "metadata": {},
     "output_type": "execute_result"
    }
   ],
   "source": [
    "df2_comments = pd.read_csv(\"comments_travel.csv\")\n",
    "df2_comments.head()"
   ]
  },
  {
   "cell_type": "code",
   "execution_count": 12,
   "id": "7180c097",
   "metadata": {},
   "outputs": [
    {
     "name": "stdout",
     "output_type": "stream",
     "text": [
      "<class 'pandas.core.frame.DataFrame'>\n",
      "RangeIndex: 415 entries, 0 to 414\n",
      "Data columns (total 7 columns):\n",
      " #   Column       Non-Null Count  Dtype  \n",
      "---  ------       --------------  -----  \n",
      " 0   comment_id   415 non-null    object \n",
      " 1   author       415 non-null    object \n",
      " 2   score        415 non-null    int64  \n",
      " 3   created_utc  415 non-null    float64\n",
      " 4   parent_id    415 non-null    object \n",
      " 5   link_id      415 non-null    object \n",
      " 6   body         415 non-null    object \n",
      "dtypes: float64(1), int64(1), object(5)\n",
      "memory usage: 22.8+ KB\n"
     ]
    }
   ],
   "source": [
    "df2_comments.info()"
   ]
  },
  {
   "cell_type": "code",
   "execution_count": 13,
   "id": "bf373810",
   "metadata": {},
   "outputs": [
    {
     "data": {
      "text/plain": [
       "comment_id     0.0\n",
       "author         0.0\n",
       "score          0.0\n",
       "created_utc    0.0\n",
       "parent_id      0.0\n",
       "link_id        0.0\n",
       "body           0.0\n",
       "dtype: float64"
      ]
     },
     "execution_count": 13,
     "metadata": {},
     "output_type": "execute_result"
    }
   ],
   "source": [
    "df2_comments.isna().sum()/len(df2_comments)"
   ]
  },
  {
   "cell_type": "code",
   "execution_count": 14,
   "id": "6de0429d",
   "metadata": {},
   "outputs": [
    {
     "data": {
      "text/html": [
       "<div>\n",
       "<style scoped>\n",
       "    .dataframe tbody tr th:only-of-type {\n",
       "        vertical-align: middle;\n",
       "    }\n",
       "\n",
       "    .dataframe tbody tr th {\n",
       "        vertical-align: top;\n",
       "    }\n",
       "\n",
       "    .dataframe thead th {\n",
       "        text-align: right;\n",
       "    }\n",
       "</style>\n",
       "<table border=\"1\" class=\"dataframe\">\n",
       "  <thead>\n",
       "    <tr style=\"text-align: right;\">\n",
       "      <th></th>\n",
       "      <th>comment_id</th>\n",
       "      <th>author</th>\n",
       "      <th>score</th>\n",
       "      <th>created_utc</th>\n",
       "      <th>parent_id</th>\n",
       "      <th>link_id</th>\n",
       "      <th>body</th>\n",
       "    </tr>\n",
       "  </thead>\n",
       "  <tbody>\n",
       "  </tbody>\n",
       "</table>\n",
       "</div>"
      ],
      "text/plain": [
       "Empty DataFrame\n",
       "Columns: [comment_id, author, score, created_utc, parent_id, link_id, body]\n",
       "Index: []"
      ]
     },
     "execution_count": 14,
     "metadata": {},
     "output_type": "execute_result"
    }
   ],
   "source": [
    "df2_comments[df2_comments.isna().any(axis=1)]"
   ]
  },
  {
   "cell_type": "code",
   "execution_count": 15,
   "id": "4ecbd861",
   "metadata": {},
   "outputs": [],
   "source": [
    "# removing unnecessary items from body of the text \\n  and ** from\n",
    "df2_comments[\"body\"] = df2_comments[\"body\"].str.replace(\"\\n\",\"\")\n",
    "df2_comments[\"body\"] = df2_comments[\"body\"].str.replace(\"**\",\"\")"
   ]
  },
  {
   "cell_type": "code",
   "execution_count": 16,
   "id": "f38c3594",
   "metadata": {},
   "outputs": [],
   "source": [
    "# for each Null value in column author the body column value = [removed] \n",
    "# drop duplicates and remove null values in author \n",
    "df2_comments.drop_duplicates(inplace=True)\n",
    "df2_comments.dropna(inplace=True)"
   ]
  },
  {
   "cell_type": "code",
   "execution_count": 17,
   "id": "52186528",
   "metadata": {},
   "outputs": [
    {
     "data": {
      "text/html": [
       "<div>\n",
       "<style scoped>\n",
       "    .dataframe tbody tr th:only-of-type {\n",
       "        vertical-align: middle;\n",
       "    }\n",
       "\n",
       "    .dataframe tbody tr th {\n",
       "        vertical-align: top;\n",
       "    }\n",
       "\n",
       "    .dataframe thead th {\n",
       "        text-align: right;\n",
       "    }\n",
       "</style>\n",
       "<table border=\"1\" class=\"dataframe\">\n",
       "  <thead>\n",
       "    <tr style=\"text-align: right;\">\n",
       "      <th></th>\n",
       "      <th>comment_id</th>\n",
       "      <th>author</th>\n",
       "      <th>score</th>\n",
       "      <th>created_utc</th>\n",
       "      <th>parent_id</th>\n",
       "      <th>link_id</th>\n",
       "      <th>body</th>\n",
       "    </tr>\n",
       "  </thead>\n",
       "  <tbody>\n",
       "  </tbody>\n",
       "</table>\n",
       "</div>"
      ],
      "text/plain": [
       "Empty DataFrame\n",
       "Columns: [comment_id, author, score, created_utc, parent_id, link_id, body]\n",
       "Index: []"
      ]
     },
     "execution_count": 17,
     "metadata": {},
     "output_type": "execute_result"
    }
   ],
   "source": [
    "# no null valeus found not duplicated\n",
    "df2_comments[df2_comments.isna().any(axis=1)]"
   ]
  },
  {
   "cell_type": "code",
   "execution_count": 18,
   "id": "f7890536",
   "metadata": {},
   "outputs": [],
   "source": [
    "df2_comments.to_csv(\"comments_travel_cleaned.csv\",index=False)"
   ]
  }
 ],
 "metadata": {
  "kernelspec": {
   "display_name": "Python 3",
   "language": "python",
   "name": "python3"
  },
  "language_info": {
   "codemirror_mode": {
    "name": "ipython",
    "version": 3
   },
   "file_extension": ".py",
   "mimetype": "text/x-python",
   "name": "python",
   "nbconvert_exporter": "python",
   "pygments_lexer": "ipython3",
   "version": "3.10.2"
  }
 },
 "nbformat": 4,
 "nbformat_minor": 5
}
