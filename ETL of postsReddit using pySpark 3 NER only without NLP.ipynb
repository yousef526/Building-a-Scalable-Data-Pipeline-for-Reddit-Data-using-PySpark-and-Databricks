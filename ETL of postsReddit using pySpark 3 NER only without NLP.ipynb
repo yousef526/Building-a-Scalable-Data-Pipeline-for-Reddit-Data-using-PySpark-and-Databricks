{
 "cells": [
  {
   "cell_type": "code",
   "execution_count": 1,
   "metadata": {},
   "outputs": [],
   "source": [
    "# way to define spark context\n",
    "import findspark\n",
    "findspark.init()\n",
    "from pyspark.sql import SparkSession\n"
   ]
  },
  {
   "cell_type": "code",
   "execution_count": 2,
   "metadata": {},
   "outputs": [],
   "source": [
    "spark = SparkSession.builder\\\n",
    "    .appName(\"Reddit_proj\") \\\n",
    "    .config(\"spark.jars\", \"postgresql-42.7.5.jar\") \\\n",
    "    .getOrCreate()\n",
    "sc = spark.sparkContext"
   ]
  },
  {
   "cell_type": "code",
   "execution_count": 3,
   "metadata": {
    "application/vnd.databricks.v1+cell": {
     "cellMetadata": {
      "byteLimit": 2048000,
      "rowLimit": 10000
     },
     "inputWidgets": {},
     "nuid": "658056ba-1c69-4cc1-a56e-d916963dd4e5",
     "showTitle": false,
     "tableResultSettingsMap": {},
     "title": ""
    }
   },
   "outputs": [],
   "source": [
    "from datetime import datetime \n",
    "from pyspark.sql import SparkSession\n",
    "from pyspark.sql.functions import explode, col, to_timestamp, stack, expr, lit, split, sum, udf, regexp_replace, size\n",
    "from pyspark.sql.types import TimestampType, StructField, StructType, StringType, DoubleType, IntegerType, ArrayType\n",
    "import os"
   ]
  },
  {
   "cell_type": "code",
   "execution_count": 4,
   "metadata": {
    "application/vnd.databricks.v1+cell": {
     "cellMetadata": {
      "byteLimit": 2048000,
      "rowLimit": 10000
     },
     "inputWidgets": {},
     "nuid": "64e74787-7c94-4ecb-94fb-76fa3479cb44",
     "showTitle": false,
     "tableResultSettingsMap": {},
     "title": ""
    }
   },
   "outputs": [],
   "source": [
    "posts_schema = StructType([\n",
    "    StructField(\"post_id\", StringType(), True),\n",
    "    StructField(\"title\", StringType(), True),\n",
    "    StructField(\"author\", StringType(), True),\n",
    "    StructField(\"score\", IntegerType(), True),\n",
    "    StructField(\"num_comments\", IntegerType(), True),\n",
    "    StructField(\"created_utc\", DoubleType(), True),\n",
    "    StructField(\"subreddit\", StringType(), True),\n",
    "    StructField(\"post_url\", StringType(), True),\n",
    "    StructField(\"selftext\", StringType(), True)\n",
    "])"
   ]
  },
  {
   "cell_type": "code",
   "execution_count": 5,
   "metadata": {
    "application/vnd.databricks.v1+cell": {
     "cellMetadata": {
      "byteLimit": 2048000,
      "rowLimit": 10000
     },
     "inputWidgets": {},
     "nuid": "7338d60d-92a8-4251-b48e-f26f0caaa917",
     "showTitle": false,
     "tableResultSettingsMap": {},
     "title": ""
    }
   },
   "outputs": [],
   "source": [
    "comments_schema = StructType([\n",
    "    StructField(\"comment_id\", StringType(), True),\n",
    "    StructField(\"author\", StringType(), True),\n",
    "    StructField(\"score\", IntegerType(), True),\n",
    "    StructField(\"created_utc\", DoubleType(), True),\n",
    "    StructField(\"parent_id\", StringType(), True),\n",
    "    StructField(\"link_id\", StringType(), True),\n",
    "    StructField(\"body\", StringType(), True)\n",
    "])"
   ]
  },
  {
   "cell_type": "code",
   "execution_count": 6,
   "metadata": {
    "application/vnd.databricks.v1+cell": {
     "cellMetadata": {
      "byteLimit": 2048000,
      "rowLimit": 10000
     },
     "inputWidgets": {},
     "nuid": "69278044-4ce0-40b5-a1b2-7b495d359121",
     "showTitle": false,
     "tableResultSettingsMap": {},
     "title": ""
    }
   },
   "outputs": [],
   "source": [
    "df_posts = spark.read.csv(\"posts_travel_cleaned.csv\",\n",
    "                        header=True,\n",
    "                        schema=posts_schema)\n",
    "\n",
    "df_comments = spark.read.csv(\"comments_travel_cleaned.csv\",\n",
    "                            header=True,\n",
    "                            schema=comments_schema)"
   ]
  },
  {
   "cell_type": "code",
   "execution_count": 7,
   "metadata": {
    "application/vnd.databricks.v1+cell": {
     "cellMetadata": {
      "byteLimit": 2048000,
      "rowLimit": 10000
     },
     "inputWidgets": {},
     "nuid": "bc020b8d-1075-454b-8980-ac8e4053ca0b",
     "showTitle": false,
     "tableResultSettingsMap": {},
     "title": ""
    }
   },
   "outputs": [
    {
     "name": "stdout",
     "output_type": "stream",
     "text": [
      "root\n",
      " |-- post_id: string (nullable = true)\n",
      " |-- title: string (nullable = true)\n",
      " |-- author: string (nullable = true)\n",
      " |-- score: integer (nullable = true)\n",
      " |-- num_comments: integer (nullable = true)\n",
      " |-- created_utc: double (nullable = true)\n",
      " |-- subreddit: string (nullable = true)\n",
      " |-- post_url: string (nullable = true)\n",
      " |-- selftext: string (nullable = true)\n",
      "\n"
     ]
    }
   ],
   "source": [
    "df_posts.printSchema()"
   ]
  },
  {
   "cell_type": "code",
   "execution_count": 8,
   "metadata": {
    "application/vnd.databricks.v1+cell": {
     "cellMetadata": {
      "byteLimit": 2048000,
      "rowLimit": 10000
     },
     "inputWidgets": {},
     "nuid": "32de89aa-6bae-4765-b265-613abe18c98e",
     "showTitle": false,
     "tableResultSettingsMap": {},
     "title": ""
    }
   },
   "outputs": [
    {
     "name": "stdout",
     "output_type": "stream",
     "text": [
      "root\n",
      " |-- comment_id: string (nullable = true)\n",
      " |-- author: string (nullable = true)\n",
      " |-- score: integer (nullable = true)\n",
      " |-- created_utc: double (nullable = true)\n",
      " |-- parent_id: string (nullable = true)\n",
      " |-- link_id: string (nullable = true)\n",
      " |-- body: string (nullable = true)\n",
      "\n"
     ]
    }
   ],
   "source": [
    "df_comments.printSchema()"
   ]
  },
  {
   "cell_type": "code",
   "execution_count": 9,
   "metadata": {
    "application/vnd.databricks.v1+cell": {
     "cellMetadata": {
      "byteLimit": 2048000,
      "rowLimit": 10000
     },
     "inputWidgets": {},
     "nuid": "dcddd336-0489-48d0-a3af-a544c2b104ae",
     "showTitle": false,
     "tableResultSettingsMap": {},
     "title": ""
    }
   },
   "outputs": [
    {
     "data": {
      "text/plain": [
       "60"
      ]
     },
     "execution_count": 9,
     "metadata": {},
     "output_type": "execute_result"
    }
   ],
   "source": [
    "df_posts.count()"
   ]
  },
  {
   "cell_type": "code",
   "execution_count": 10,
   "metadata": {
    "application/vnd.databricks.v1+cell": {
     "cellMetadata": {
      "byteLimit": 2048000,
      "rowLimit": 10000
     },
     "inputWidgets": {},
     "nuid": "18bd5ad8-a2b7-4354-afc4-dce16703e186",
     "showTitle": false,
     "tableResultSettingsMap": {},
     "title": ""
    }
   },
   "outputs": [],
   "source": [
    "#Casting the df_posts[\"created_utc\"] to time stamp\n",
    "df_posts = df_posts.withColumn(\"created_utc\", df_posts[\"created_utc\"].cast(TimestampType()))\n"
   ]
  },
  {
   "cell_type": "code",
   "execution_count": 11,
   "metadata": {
    "application/vnd.databricks.v1+cell": {
     "cellMetadata": {
      "byteLimit": 2048000,
      "rowLimit": 10000
     },
     "inputWidgets": {},
     "nuid": "b7760e03-59c1-4889-b28f-18985452b345",
     "showTitle": false,
     "tableResultSettingsMap": {},
     "title": ""
    }
   },
   "outputs": [
    {
     "name": "stdout",
     "output_type": "stream",
     "text": [
      "+-------+-----+------+-----+------------+-----------+---------+--------+--------+\n",
      "|post_id|title|author|score|num_comments|created_utc|subreddit|post_url|selftext|\n",
      "+-------+-----+------+-----+------------+-----------+---------+--------+--------+\n",
      "|      0|    0|     0|    0|           0|          0|        0|       0|       0|\n",
      "+-------+-----+------+-----+------------+-----------+---------+--------+--------+\n",
      "\n"
     ]
    }
   ],
   "source": [
    "df_posts.select([sum(col(c).isNull().cast(\"int\")).alias(c) for c in df_posts.columns]).show()"
   ]
  },
  {
   "cell_type": "code",
   "execution_count": 12,
   "metadata": {
    "application/vnd.databricks.v1+cell": {
     "cellMetadata": {
      "byteLimit": 2048000,
      "rowLimit": 10000
     },
     "inputWidgets": {},
     "nuid": "a37a46fc-9c95-41b7-b08f-1eebdfc198c2",
     "showTitle": false,
     "tableResultSettingsMap": {},
     "title": ""
    }
   },
   "outputs": [
    {
     "name": "stdout",
     "output_type": "stream",
     "text": [
      "+-------+--------------------+--------------------+-----+------------+-------------------+---------+--------------------+--------------------+\n",
      "|post_id|               title|              author|score|num_comments|        created_utc|subreddit|            post_url|            selftext|\n",
      "+-------+--------------------+--------------------+-----+------------+-------------------+---------+--------------------+--------------------+\n",
      "|1mnkqmi|Advice on travel ...|             gtjs001|    1|           1|2025-08-11 21:17:48|   travel|https://www.reddi...|My wife and I are...|\n",
      "|1mnkabx|Night time in London|             Areotew|    0|           9|2025-08-11 21:01:10|   travel|https://www.reddi...|I have found myse...|\n",
      "|1mnk8sc|Things to do in R...|      Ok_Hearing7948|    1|           1|2025-08-11 20:59:41|   travel|https://www.reddi...|I’ll be spending ...|\n",
      "|1mnk0m9|Malaysia in Septe...|     AdagioNovel1264|    1|           1|2025-08-11 20:51:16|   travel|https://www.reddi...|Hello,me and my g...|\n",
      "|1mnjrrn|Solo trip suggest...|Expert_Variation_123|    1|           3|2025-08-11 20:42:24|   travel|https://www.reddi...|Hi,Would someone ...|\n",
      "+-------+--------------------+--------------------+-----+------------+-------------------+---------+--------------------+--------------------+\n",
      "only showing top 5 rows\n",
      "\n"
     ]
    }
   ],
   "source": [
    "df_posts.select(\"*\").show(5)"
   ]
  },
  {
   "cell_type": "code",
   "execution_count": 13,
   "metadata": {
    "application/vnd.databricks.v1+cell": {
     "cellMetadata": {
      "byteLimit": 2048000,
      "rowLimit": 10000
     },
     "inputWidgets": {},
     "nuid": "f8a313d2-e09e-4f5d-9bf5-1ec68bd34906",
     "showTitle": false,
     "tableResultSettingsMap": {},
     "title": ""
    }
   },
   "outputs": [],
   "source": [
    "# df_comments column created_utc cast to timeStamp \n",
    "df_comments = df_comments.withColumn(\"created_utc\", df_comments[\"created_utc\"].cast(TimestampType()))\n"
   ]
  },
  {
   "cell_type": "code",
   "execution_count": 14,
   "metadata": {
    "application/vnd.databricks.v1+cell": {
     "cellMetadata": {
      "byteLimit": 2048000,
      "rowLimit": 10000
     },
     "inputWidgets": {},
     "nuid": "ecae0a38-687e-4256-b908-444927d57c55",
     "showTitle": false,
     "tableResultSettingsMap": {},
     "title": ""
    }
   },
   "outputs": [
    {
     "name": "stdout",
     "output_type": "stream",
     "text": [
      "+----------+------+-----+-----------+---------+-------+----+\n",
      "|comment_id|author|score|created_utc|parent_id|link_id|body|\n",
      "+----------+------+-----+-----------+---------+-------+----+\n",
      "|         0|     0|    0|          0|        0|      0|   0|\n",
      "+----------+------+-----+-----------+---------+-------+----+\n",
      "\n"
     ]
    }
   ],
   "source": [
    "df_comments.select([sum(col(c).isNull().cast(\"int\")).alias(c) for c in df_comments.columns]).show()"
   ]
  },
  {
   "cell_type": "code",
   "execution_count": 15,
   "metadata": {
    "application/vnd.databricks.v1+cell": {
     "cellMetadata": {
      "byteLimit": 2048000,
      "rowLimit": 10000
     },
     "inputWidgets": {},
     "nuid": "9be85af1-74f4-43ee-a69f-5118671e0312",
     "showTitle": false,
     "tableResultSettingsMap": {},
     "title": ""
    }
   },
   "outputs": [
    {
     "name": "stdout",
     "output_type": "stream",
     "text": [
      "+----------+----------------+-----+-------------------+----------+----------+--------------------+\n",
      "|comment_id|          author|score|        created_utc| parent_id|   link_id|                body|\n",
      "+----------+----------------+-----+-------------------+----------+----------+--------------------+\n",
      "|   n85i14a|   AutoModerator|    1|2025-08-11 21:17:49|t3_1mnkqmi|t3_1mnkqmi|Notice: Are you a...|\n",
      "|   n85fd9z|NewJerseyAggie13|    1|2025-08-11 21:04:40|t3_1mnkabx|t3_1mnkabx|London has severa...|\n",
      "|   n85gih8|           ZKH15|    1|2025-08-11 21:10:18|t3_1mnkabx|t3_1mnkabx|As a Londoner, I’...|\n",
      "|   n85gttp|    UnhappyScore|    1|2025-08-11 21:11:51|t3_1mnkabx|t3_1mnkabx|If its the weeken...|\n",
      "|   n85fl96|        gateofai|    1|2025-08-11 21:05:45|t3_1mnkabx|t3_1mnkabx|Nothing really ev...|\n",
      "+----------+----------------+-----+-------------------+----------+----------+--------------------+\n",
      "only showing top 5 rows\n",
      "\n"
     ]
    }
   ],
   "source": [
    "df_comments.select(\"*\").show(5)"
   ]
  },
  {
   "cell_type": "code",
   "execution_count": 16,
   "metadata": {
    "application/vnd.databricks.v1+cell": {
     "cellMetadata": {
      "byteLimit": 2048000,
      "rowLimit": 10000
     },
     "inputWidgets": {},
     "nuid": "034fb1da-0c85-4bef-8187-2a505962da05",
     "showTitle": false,
     "tableResultSettingsMap": {},
     "title": ""
    }
   },
   "outputs": [
    {
     "name": "stdout",
     "output_type": "stream",
     "text": [
      "root\n",
      " |-- post_id: string (nullable = true)\n",
      " |-- title: string (nullable = true)\n",
      " |-- author: string (nullable = true)\n",
      " |-- score: integer (nullable = true)\n",
      " |-- num_comments: integer (nullable = true)\n",
      " |-- created_utc: timestamp (nullable = true)\n",
      " |-- subreddit: string (nullable = true)\n",
      " |-- post_url: string (nullable = true)\n",
      " |-- selftext: string (nullable = true)\n",
      "\n",
      "root\n",
      " |-- comment_id: string (nullable = true)\n",
      " |-- author: string (nullable = true)\n",
      " |-- score: integer (nullable = true)\n",
      " |-- created_utc: timestamp (nullable = true)\n",
      " |-- parent_id: string (nullable = true)\n",
      " |-- link_id: string (nullable = true)\n",
      " |-- body: string (nullable = true)\n",
      "\n"
     ]
    }
   ],
   "source": [
    "# printing Schema agian\n",
    "df_posts.printSchema()\n",
    "df_comments.printSchema()"
   ]
  },
  {
   "cell_type": "code",
   "execution_count": 17,
   "metadata": {
    "application/vnd.databricks.v1+cell": {
     "cellMetadata": {
      "byteLimit": 2048000,
      "rowLimit": 10000
     },
     "inputWidgets": {},
     "nuid": "ad3710af-2895-4326-84c1-617d59dedf6a",
     "showTitle": false,
     "tableResultSettingsMap": {},
     "title": ""
    }
   },
   "outputs": [],
   "source": [
    "#df_posts.write.format(\"delta\").mode(\"overwrite\").saveAsTable(f\"workspace.default.reddit_posts_travel\")"
   ]
  },
  {
   "cell_type": "code",
   "execution_count": 18,
   "metadata": {
    "application/vnd.databricks.v1+cell": {
     "cellMetadata": {
      "byteLimit": 2048000,
      "rowLimit": 10000
     },
     "inputWidgets": {},
     "nuid": "56c66746-3f40-42ab-9879-4bf6b6c87428",
     "showTitle": false,
     "tableResultSettingsMap": {},
     "title": ""
    }
   },
   "outputs": [],
   "source": [
    "#df_comments.write.format(\"delta\").mode(\"overwrite\").saveAsTable(f\"workspace.default.reddit_comments_travel\")"
   ]
  },
  {
   "cell_type": "code",
   "execution_count": null,
   "metadata": {},
   "outputs": [],
   "source": [
    "#pip install pycountry geonamescache unidecode\n"
   ]
  },
  {
   "cell_type": "code",
   "execution_count": 17,
   "metadata": {},
   "outputs": [],
   "source": [
    "import geonamescache\n",
    "\n",
    "gc = geonamescache.GeonamesCache()\n",
    "\n",
    "# Get country names\n",
    "countries_name =  gc.get_countries_by_names()\n",
    "\n",
    "\n",
    "def NER_func_city(word):\n",
    "    res = gc.get_cities_by_name(word.capitalize())\n",
    "    if res == []:\n",
    "        return []\n",
    "    else:\n",
    "        # use res[0] to get first element\n",
    "        first_key = next(iter(res[0])) # used next and iter to get first element in the dict res[0]\n",
    "        country_code = res[0][first_key][\"countrycode\"] # used the key to get country code from the dict that found in res[0]\n",
    "        country = gc.get_countries() # used this function to get countries by code\n",
    "        country_name = country[country_code]['name'] # get the country name\n",
    "\n",
    "    return country_name     \n",
    "\n",
    "def NER_func_country(text):\n",
    "    text = text.split(\" \")\n",
    "    countries = set()\n",
    "    for word in text:\n",
    "        #print(word)\n",
    "        if word.capitalize() in countries_name:\n",
    "            countries.add(word)\n",
    "        else:\n",
    "            val = NER_func_city(word)\n",
    "            if val == []:\n",
    "                continue\n",
    "            else:\n",
    "\n",
    "                countries.add(val) \n",
    "    return list(countries) \n",
    "\n",
    " "
   ]
  },
  {
   "cell_type": "code",
   "execution_count": 18,
   "metadata": {},
   "outputs": [
    {
     "data": {
      "text/plain": [
       "['Portugal', 'United States']"
      ]
     },
     "execution_count": 18,
     "metadata": {},
     "output_type": "execute_result"
    }
   ],
   "source": [
    "NER_func_country('We were there in May and spent 4 nights in Lisbon  2 nights in Coimbra  and 4 nights in Porto   Coimbra is an old university city  with the oldest extant ')"
   ]
  },
  {
   "cell_type": "code",
   "execution_count": 19,
   "metadata": {},
   "outputs": [],
   "source": [
    "df_comments = df_comments.withColumn(\"body\", regexp_replace(\"body\", r\"[^a-zA-Z0-9 ]\", \" \"))"
   ]
  },
  {
   "cell_type": "code",
   "execution_count": 20,
   "metadata": {},
   "outputs": [],
   "source": [
    "\n",
    "udf_search_country = udf(NER_func_country, ArrayType(StringType()))\n"
   ]
  },
  {
   "cell_type": "code",
   "execution_count": 21,
   "metadata": {},
   "outputs": [],
   "source": [
    "#df_comments = df_comments.withColumn(\"city_name\", udf_search_city(df_comments[\"body\"]))\n",
    "df_comments = df_comments.withColumn(\"country_name\", udf_search_country(df_comments[\"body\"]))"
   ]
  },
  {
   "cell_type": "code",
   "execution_count": 22,
   "metadata": {},
   "outputs": [
    {
     "name": "stdout",
     "output_type": "stream",
     "text": [
      "+----------------------------------------------------+------------------------------------------------------------------------------------------------------------------------------------------------------------------------------------------------------------------------------------------------------------------------------------------------------------------------------------------------------------------------------------------------------------------------------------------------------------------------------------------------------------------------------------------------------------------------------------------------------------------------------------------------------------------------------------------+\n",
      "|country_name                                        |body                                                                                                                                                                                                                                                                                                                                                                                                                                                                                                                                                                                                                                                                                      |\n",
      "+----------------------------------------------------+------------------------------------------------------------------------------------------------------------------------------------------------------------------------------------------------------------------------------------------------------------------------------------------------------------------------------------------------------------------------------------------------------------------------------------------------------------------------------------------------------------------------------------------------------------------------------------------------------------------------------------------------------------------------------------------+\n",
      "|[Turkey, Croatia]                                   |Notice  Are you asking for travel advice about Croatia Read what redditors had to say in the  weekly destination thread for Croatia  http   redd it 2lyxb5   I am a bot  and this action was performed automatically  Please  contact the moderators of this subreddit   message compose  to  r travel  if you have any questions or concerns                                                                                                                                                                                                                                                                                                                                             |\n",
      "|[Canada]                                            |London has several epic Pub crawls  but I wouldn t get too hammered if you have a flight at 6 AM  otherwise walking around Thames at night was truly epic                                                                                                                                                                                                                                                                                                                                                                                                                                                                                                                                 |\n",
      "|[Czechia, United States, Turkey, Canada, Montenegro]|As a Londoner  I d say you can definitely make the most of your layover if you time it right  From Heathrow  take the Piccadilly line into central London  about 50 55 mins  just note the last Tube back towards Heathrow leaves around 11 45 pm  and the first one starts up again around 5 10 am Head to Soho or Chinatown for dinner  then wander down to the Thames for iconic night views of Big Ben  the London Eye  and Tower Bridge all lit up  If you want to stay out past the last train  stick around in a late night bar  jazz club  or even a 24 hour caf   would recommend The Diner  Soho  it s 24 hours  then catch that first train back so you re at Heathrow by 6 am |\n",
      "|[United States, Spain, Canada]                      |If its the weekend  a bit more luck  but this city is well and truly tucked in by 10PM  You could probably grab a Lime Bike or Santander Cycle and cycle around the sights in central London before heading back to Heathrow and grabbing an airport hotel or something                                                                                                                                                                                                                                                                                                                                                                                                                   |\n",
      "|[United States, Canada]                             |Nothing really everything is closes early  and its not really safe out at night its better if you stay at the airport book a room for the night  And Heathrow is an hour away from central london  I don t think its worth it since your arriving at night                                                                                                                                                                                                                                                                                                                                                                                                                                |\n",
      "+----------------------------------------------------+------------------------------------------------------------------------------------------------------------------------------------------------------------------------------------------------------------------------------------------------------------------------------------------------------------------------------------------------------------------------------------------------------------------------------------------------------------------------------------------------------------------------------------------------------------------------------------------------------------------------------------------------------------------------------------------+\n",
      "only showing top 5 rows\n",
      "\n"
     ]
    }
   ],
   "source": [
    "df_comments[[\"country_name\",\"body\"]].show(5, truncate=False)"
   ]
  },
  {
   "cell_type": "code",
   "execution_count": 24,
   "metadata": {},
   "outputs": [],
   "source": [
    "df_comments_2 = df_comments.filter(size(col(\"country_name\")) > 0)"
   ]
  },
  {
   "cell_type": "code",
   "execution_count": 320,
   "metadata": {},
   "outputs": [],
   "source": [
    "df_comments_2.write.parquet(\"df_comments_cleaned_2_NO_NLP_Sentiment.parquet\")"
   ]
  },
  {
   "cell_type": "code",
   "execution_count": 25,
   "metadata": {},
   "outputs": [],
   "source": [
    "df_comments_2 = df_comments_2.select(\"*\", explode(col(\"country_name\")))"
   ]
  },
  {
   "cell_type": "code",
   "execution_count": 28,
   "metadata": {},
   "outputs": [],
   "source": [
    "df_comments_2 = df_comments_2.drop((\"country_name\"))"
   ]
  },
  {
   "cell_type": "code",
   "execution_count": 29,
   "metadata": {},
   "outputs": [],
   "source": [
    "df_comments_2 = df_comments_2.withColumnRenamed(\"col\",\"country_name\")"
   ]
  },
  {
   "cell_type": "code",
   "execution_count": 30,
   "metadata": {},
   "outputs": [
    {
     "name": "stdout",
     "output_type": "stream",
     "text": [
      "+----------+----------------+-----+-------------------+----------+----------+--------------------+-------------+\n",
      "|comment_id|          author|score|        created_utc| parent_id|   link_id|                body| country_name|\n",
      "+----------+----------------+-----+-------------------+----------+----------+--------------------+-------------+\n",
      "|   n85i14a|   AutoModerator|    1|2025-08-11 21:17:49|t3_1mnkqmi|t3_1mnkqmi|Notice  Are you a...|       Turkey|\n",
      "|   n85i14a|   AutoModerator|    1|2025-08-11 21:17:49|t3_1mnkqmi|t3_1mnkqmi|Notice  Are you a...|      Croatia|\n",
      "|   n85fd9z|NewJerseyAggie13|    1|2025-08-11 21:04:40|t3_1mnkabx|t3_1mnkabx|London has severa...|       Canada|\n",
      "|   n85gih8|           ZKH15|    1|2025-08-11 21:10:18|t3_1mnkabx|t3_1mnkabx|As a Londoner  I ...|      Czechia|\n",
      "|   n85gih8|           ZKH15|    1|2025-08-11 21:10:18|t3_1mnkabx|t3_1mnkabx|As a Londoner  I ...|United States|\n",
      "+----------+----------------+-----+-------------------+----------+----------+--------------------+-------------+\n",
      "only showing top 5 rows\n",
      "\n"
     ]
    }
   ],
   "source": [
    "df_comments_2.show(5)"
   ]
  },
  {
   "cell_type": "code",
   "execution_count": 31,
   "metadata": {},
   "outputs": [
    {
     "data": {
      "text/plain": [
       "682"
      ]
     },
     "execution_count": 31,
     "metadata": {},
     "output_type": "execute_result"
    }
   ],
   "source": [
    "df_comments_2.count()"
   ]
  },
  {
   "cell_type": "code",
   "execution_count": 32,
   "metadata": {},
   "outputs": [],
   "source": [
    "df_comments_2.write.parquet(\"df_comments_cleaned_2_NO_NLP_Sentiment_2.parquet\")"
   ]
  },
  {
   "cell_type": "markdown",
   "metadata": {},
   "source": [
    "# Applying some Aggregations on data"
   ]
  },
  {
   "cell_type": "code",
   "execution_count": 66,
   "metadata": {},
   "outputs": [],
   "source": [
    "import pandas as pd\n",
    "import matplotlib.pyplot as plt"
   ]
  },
  {
   "cell_type": "code",
   "execution_count": 67,
   "metadata": {},
   "outputs": [],
   "source": [
    "df_comments_pandas = df_comments_2.toPandas()"
   ]
  },
  {
   "cell_type": "code",
   "execution_count": 52,
   "metadata": {},
   "outputs": [],
   "source": [
    "df_comments_pandas.to_csv(\"df_final_comments_gold_layer.csv\",index=False)"
   ]
  },
  {
   "cell_type": "code",
   "execution_count": 56,
   "metadata": {},
   "outputs": [],
   "source": [
    "df_countries = df_comments_pandas.groupby(by=[\"country_name\"])[\"comment_id\"].agg(\"count\").reset_index()"
   ]
  },
  {
   "cell_type": "code",
   "execution_count": 65,
   "metadata": {},
   "outputs": [
    {
     "data": {
      "text/html": [
       "<div>\n",
       "<style scoped>\n",
       "    .dataframe tbody tr th:only-of-type {\n",
       "        vertical-align: middle;\n",
       "    }\n",
       "\n",
       "    .dataframe tbody tr th {\n",
       "        vertical-align: top;\n",
       "    }\n",
       "\n",
       "    .dataframe thead th {\n",
       "        text-align: right;\n",
       "    }\n",
       "</style>\n",
       "<table border=\"1\" class=\"dataframe\">\n",
       "  <thead>\n",
       "    <tr style=\"text-align: right;\">\n",
       "      <th></th>\n",
       "      <th>country_name</th>\n",
       "      <th>countries_count</th>\n",
       "    </tr>\n",
       "  </thead>\n",
       "  <tbody>\n",
       "    <tr>\n",
       "      <th>0</th>\n",
       "      <td>Albania</td>\n",
       "      <td>1</td>\n",
       "    </tr>\n",
       "    <tr>\n",
       "      <th>1</th>\n",
       "      <td>Argentina</td>\n",
       "      <td>4</td>\n",
       "    </tr>\n",
       "    <tr>\n",
       "      <th>2</th>\n",
       "      <td>Australia</td>\n",
       "      <td>5</td>\n",
       "    </tr>\n",
       "    <tr>\n",
       "      <th>3</th>\n",
       "      <td>Austria</td>\n",
       "      <td>6</td>\n",
       "    </tr>\n",
       "    <tr>\n",
       "      <th>4</th>\n",
       "      <td>Belgium</td>\n",
       "      <td>3</td>\n",
       "    </tr>\n",
       "  </tbody>\n",
       "</table>\n",
       "</div>"
      ],
      "text/plain": [
       "  country_name  countries_count\n",
       "0      Albania                1\n",
       "1    Argentina                4\n",
       "2    Australia                5\n",
       "3      Austria                6\n",
       "4      Belgium                3"
      ]
     },
     "execution_count": 65,
     "metadata": {},
     "output_type": "execute_result"
    }
   ],
   "source": [
    "df_countries = df_countries.rename(columns={'comment_id':\"countries_count\"})\n",
    "df_countries.head()"
   ]
  },
  {
   "cell_type": "code",
   "execution_count": 86,
   "metadata": {},
   "outputs": [
    {
     "data": {
      "image/png": "[encoded data removed]",
      "text/plain": [
       "<Figure size 640x480 with 1 Axes>"
      ]
     },
     "metadata": {},
     "output_type": "display_data"
    }
   ],
   "source": [
    "top_10_countries = df_countries.sort_values(by=\"countries_count\",ascending=False).head(10)\n",
    "ax = top_10_countries.plot(y='countries_count', labels=top_10_countries['country_name'],autopct='%1.1f%%',\n",
    "                     kind='pie', title='Top 10 visited countries',legend=False)\n",
    "ax.yaxis.set_visible(False)\n",
    "plt.show()\n"
   ]
  },
  {
   "cell_type": "code",
   "execution_count": 75,
   "metadata": {},
   "outputs": [
    {
     "data": {
      "image/png": "[encoded data removed]",
      "text/plain": [
       "<Figure size 640x480 with 1 Axes>"
      ]
     },
     "metadata": {},
     "output_type": "display_data"
    }
   ],
   "source": [
    "lowest_10_countries = df_countries.sort_values(by=\"countries_count\",ascending=True).head(10)\n",
    "lowest_10_countries.plot(x='country_name', y='countries_count', kind='bar', title='Lowest 20 visited countries')\n",
    "plt.show()"
   ]
  },
  {
   "cell_type": "code",
   "execution_count": 60,
   "metadata": {},
   "outputs": [
    {
     "data": {
      "text/plain": [
       "(3.4765395894428153, 83, -4)"
      ]
     },
     "execution_count": 60,
     "metadata": {},
     "output_type": "execute_result"
    }
   ],
   "source": [
    "avg_score = df_comments_pandas[\"score\"].mean()\n",
    "max_score = df_comments_pandas[\"score\"].max()\n",
    "min_score = df_comments_pandas[\"score\"].min()\n",
    "avg_score,max_score,min_score"
   ]
  },
  {
   "cell_type": "code",
   "execution_count": 62,
   "metadata": {},
   "outputs": [
    {
     "data": {
      "text/html": [
       "<div>\n",
       "<style scoped>\n",
       "    .dataframe tbody tr th:only-of-type {\n",
       "        vertical-align: middle;\n",
       "    }\n",
       "\n",
       "    .dataframe tbody tr th {\n",
       "        vertical-align: top;\n",
       "    }\n",
       "\n",
       "    .dataframe thead th {\n",
       "        text-align: right;\n",
       "    }\n",
       "</style>\n",
       "<table border=\"1\" class=\"dataframe\">\n",
       "  <thead>\n",
       "    <tr style=\"text-align: right;\">\n",
       "      <th></th>\n",
       "      <th>score</th>\n",
       "      <th>comment_id</th>\n",
       "      <th>author</th>\n",
       "    </tr>\n",
       "  </thead>\n",
       "  <tbody>\n",
       "    <tr>\n",
       "      <th>380</th>\n",
       "      <td>83</td>\n",
       "      <td>n83r1u4</td>\n",
       "      <td>pulisick38</td>\n",
       "    </tr>\n",
       "    <tr>\n",
       "      <th>381</th>\n",
       "      <td>83</td>\n",
       "      <td>n83r1u4</td>\n",
       "      <td>pulisick38</td>\n",
       "    </tr>\n",
       "    <tr>\n",
       "      <th>473</th>\n",
       "      <td>51</td>\n",
       "      <td>n83o7mp</td>\n",
       "      <td>coaxui</td>\n",
       "    </tr>\n",
       "    <tr>\n",
       "      <th>474</th>\n",
       "      <td>51</td>\n",
       "      <td>n83o7mp</td>\n",
       "      <td>coaxui</td>\n",
       "    </tr>\n",
       "    <tr>\n",
       "      <th>331</th>\n",
       "      <td>41</td>\n",
       "      <td>n840e7s</td>\n",
       "      <td>pabloelbuho</td>\n",
       "    </tr>\n",
       "    <tr>\n",
       "      <th>630</th>\n",
       "      <td>33</td>\n",
       "      <td>n82tz3i</td>\n",
       "      <td>bungopony</td>\n",
       "    </tr>\n",
       "    <tr>\n",
       "      <th>629</th>\n",
       "      <td>33</td>\n",
       "      <td>n82tz3i</td>\n",
       "      <td>bungopony</td>\n",
       "    </tr>\n",
       "    <tr>\n",
       "      <th>628</th>\n",
       "      <td>33</td>\n",
       "      <td>n82tz3i</td>\n",
       "      <td>bungopony</td>\n",
       "    </tr>\n",
       "    <tr>\n",
       "      <th>471</th>\n",
       "      <td>31</td>\n",
       "      <td>n83oqbd</td>\n",
       "      <td>NoZombie2069</td>\n",
       "    </tr>\n",
       "    <tr>\n",
       "      <th>143</th>\n",
       "      <td>28</td>\n",
       "      <td>n84fb6y</td>\n",
       "      <td>Zach06</td>\n",
       "    </tr>\n",
       "  </tbody>\n",
       "</table>\n",
       "</div>"
      ],
      "text/plain": [
       "     score comment_id        author\n",
       "380     83    n83r1u4    pulisick38\n",
       "381     83    n83r1u4    pulisick38\n",
       "473     51    n83o7mp        coaxui\n",
       "474     51    n83o7mp        coaxui\n",
       "331     41    n840e7s   pabloelbuho\n",
       "630     33    n82tz3i     bungopony\n",
       "629     33    n82tz3i     bungopony\n",
       "628     33    n82tz3i     bungopony\n",
       "471     31    n83oqbd  NoZombie2069\n",
       "143     28    n84fb6y        Zach06"
      ]
     },
     "execution_count": 62,
     "metadata": {},
     "output_type": "execute_result"
    }
   ],
   "source": [
    "top_10_scores = df_comments_pandas[[\"score\",\"comment_id\",\"author\"]].sort_values(by=\"score\",ascending=False).head(10)\n",
    "top_10_scores"
   ]
  },
  {
   "cell_type": "code",
   "execution_count": 80,
   "metadata": {},
   "outputs": [
    {
     "data": {
      "image/png": "[encoded data removed]",
      "text/plain": [
       "<Figure size 640x480 with 1 Axes>"
      ]
     },
     "metadata": {},
     "output_type": "display_data"
    }
   ],
   "source": [
    "top_10_scores.plot(x='author', y='score', kind='bar', rot=90, title='Top 10 scores about countries')\n",
    "plt.show()"
   ]
  },
  {
   "cell_type": "code",
   "execution_count": 64,
   "metadata": {},
   "outputs": [
    {
     "data": {
      "text/html": [
       "<div>\n",
       "<style scoped>\n",
       "    .dataframe tbody tr th:only-of-type {\n",
       "        vertical-align: middle;\n",
       "    }\n",
       "\n",
       "    .dataframe tbody tr th {\n",
       "        vertical-align: top;\n",
       "    }\n",
       "\n",
       "    .dataframe thead th {\n",
       "        text-align: right;\n",
       "    }\n",
       "</style>\n",
       "<table border=\"1\" class=\"dataframe\">\n",
       "  <thead>\n",
       "    <tr style=\"text-align: right;\">\n",
       "      <th></th>\n",
       "      <th>score</th>\n",
       "      <th>comment_id</th>\n",
       "      <th>author</th>\n",
       "    </tr>\n",
       "  </thead>\n",
       "  <tbody>\n",
       "    <tr>\n",
       "      <th>71</th>\n",
       "      <td>-4</td>\n",
       "      <td>n8565s9</td>\n",
       "      <td>David-J</td>\n",
       "    </tr>\n",
       "    <tr>\n",
       "      <th>70</th>\n",
       "      <td>-4</td>\n",
       "      <td>n8565s9</td>\n",
       "      <td>David-J</td>\n",
       "    </tr>\n",
       "    <tr>\n",
       "      <th>617</th>\n",
       "      <td>-4</td>\n",
       "      <td>n83iu5n</td>\n",
       "      <td>boneyqueenofnowhere</td>\n",
       "    </tr>\n",
       "    <tr>\n",
       "      <th>618</th>\n",
       "      <td>-4</td>\n",
       "      <td>n83iu5n</td>\n",
       "      <td>boneyqueenofnowhere</td>\n",
       "    </tr>\n",
       "    <tr>\n",
       "      <th>362</th>\n",
       "      <td>-4</td>\n",
       "      <td>n84cyjj</td>\n",
       "      <td>idkdudess</td>\n",
       "    </tr>\n",
       "    <tr>\n",
       "      <th>502</th>\n",
       "      <td>-3</td>\n",
       "      <td>n83m8mv</td>\n",
       "      <td>Afuturecruiser</td>\n",
       "    </tr>\n",
       "    <tr>\n",
       "      <th>504</th>\n",
       "      <td>-3</td>\n",
       "      <td>n83m8mv</td>\n",
       "      <td>Afuturecruiser</td>\n",
       "    </tr>\n",
       "    <tr>\n",
       "      <th>505</th>\n",
       "      <td>-3</td>\n",
       "      <td>n83m8mv</td>\n",
       "      <td>Afuturecruiser</td>\n",
       "    </tr>\n",
       "    <tr>\n",
       "      <th>506</th>\n",
       "      <td>-3</td>\n",
       "      <td>n83m8mv</td>\n",
       "      <td>Afuturecruiser</td>\n",
       "    </tr>\n",
       "    <tr>\n",
       "      <th>507</th>\n",
       "      <td>-3</td>\n",
       "      <td>n83m8mv</td>\n",
       "      <td>Afuturecruiser</td>\n",
       "    </tr>\n",
       "  </tbody>\n",
       "</table>\n",
       "</div>"
      ],
      "text/plain": [
       "     score comment_id               author\n",
       "71      -4    n8565s9              David-J\n",
       "70      -4    n8565s9              David-J\n",
       "617     -4    n83iu5n  boneyqueenofnowhere\n",
       "618     -4    n83iu5n  boneyqueenofnowhere\n",
       "362     -4    n84cyjj            idkdudess\n",
       "502     -3    n83m8mv       Afuturecruiser\n",
       "504     -3    n83m8mv       Afuturecruiser\n",
       "505     -3    n83m8mv       Afuturecruiser\n",
       "506     -3    n83m8mv       Afuturecruiser\n",
       "507     -3    n83m8mv       Afuturecruiser"
      ]
     },
     "execution_count": 64,
     "metadata": {},
     "output_type": "execute_result"
    }
   ],
   "source": [
    "lowest_10_scores = df_comments_pandas[[\"score\",\"comment_id\",\"author\"]].sort_values(by=\"score\",ascending=True).head(10)\n",
    "lowest_10_scores"
   ]
  }
 ],
 "metadata": {
  "application/vnd.databricks.v1+notebook": {
   "computePreferences": {
    "hardware": {
     "accelerator": null,
     "gpuPoolId": null,
     "memory": null
    }
   },
   "dashboards": [],
   "environmentMetadata": {
    "base_environment": "",
    "environment_version": "2"
   },
   "inputWidgetPreferences": null,
   "language": "python",
   "notebookMetadata": {
    "pythonIndentUnit": 4
   },
   "notebookName": "ETL of postsReddit using pySpark",
   "widgets": {}
  },
  "kernelspec": {
   "display_name": "Python 3",
   "language": "python",
   "name": "python3"
  },
  "language_info": {
   "codemirror_mode": {
    "name": "ipython",
    "version": 3
   },
   "file_extension": ".py",
   "mimetype": "text/x-python",
   "name": "python",
   "nbconvert_exporter": "python",
   "pygments_lexer": "ipython3",
   "version": "3.10.2"
  }
 },
 "nbformat": 4,
 "nbformat_minor": 0
}
